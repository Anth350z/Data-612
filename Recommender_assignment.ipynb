{
 "cells": [
  {
   "cell_type": "markdown",
   "metadata": {},
   "source": [
    "## Hulu Recommender System "
   ]
  },
  {
   "cell_type": "markdown",
   "metadata": {},
   "source": [
    "Hulu is an online media entertainment company with a multiplatform content whose main focus is the streaming television series, videos, movie, Hulu original shows, etc. As 2018 the company as 28 million subscribers.\n",
    "\n",
    "\n",
    "The Hulu keys goals are to provide a vast of series tv shows to the customers. it can be current or past tv shows series. besides TV shows streaming there also, Hulu offers movies, Hulu Originals and more. They offer their products in multiplatform ways to try to keep their customers engage and comfortable using different devices to access to Hulu services.\n",
    "\n",
    "To achieve these goals and provide an optimize products to customers Hulu implement different approaches to recommender system such as collaborative filtering and machine learning."
   ]
  },
  {
   "cell_type": "markdown",
   "metadata": {},
   "source": [
    "#### Collaborative Filtering "
   ]
  },
  {
   "cell_type": "markdown",
   "metadata": {},
   "source": [
    "<img src=\"pic1.png\">"
   ]
  },
  {
   "cell_type": "markdown",
   "metadata": {},
   "source": [
    "Hulu being using collaborative filtering in many on their products such as Personalized Masthead, Watchlist and Top Picks. One the part of the Hulu recommendation system works on Matrix Factorization base \"SVD++, PMF\" and Low-Rank Matrix Approximation.\n",
    "\n",
    "Even that Hulu has been implementing those Matrix factorizations they also have been using Neural Networks in special on the most famous work such as the \"RBM-CF\". One of the most recent created work for collaborative filtering is the neural autoregressive distribution \"CF-NADE\"\n"
   ]
  },
  {
   "cell_type": "markdown",
   "metadata": {},
   "source": [
    "##### CF-NADE  explanation"
   ]
  },
  {
   "cell_type": "markdown",
   "metadata": {},
   "source": [
    "The purpose of this is to models the vectors and do optimization between them and joint them by their share probabilities. This model work with the neural network between the vectors by training and sharing the probabilities on them."
   ]
  },
  {
   "cell_type": "markdown",
   "metadata": {},
   "source": [
    "<img src = \"pic2.png\">"
   ]
  },
  {
   "cell_type": "markdown",
   "metadata": {},
   "source": [
    "### Source"
   ]
  },
  {
   "cell_type": "markdown",
   "metadata": {},
   "source": [
    "https://medium.com/hulu-tech-blog/applying-deep-learning-to-collaborative-filtering-how-hulu-builds-its-industry-leading-3b10a4ed7470"
   ]
  }
 ],
 "metadata": {
  "kernelspec": {
   "display_name": "Python 3",
   "language": "python",
   "name": "python3"
  },
  "language_info": {
   "codemirror_mode": {
    "name": "ipython",
    "version": 3
   },
   "file_extension": ".py",
   "mimetype": "text/x-python",
   "name": "python",
   "nbconvert_exporter": "python",
   "pygments_lexer": "ipython3",
   "version": "3.6.4"
  }
 },
 "nbformat": 4,
 "nbformat_minor": 2
}
